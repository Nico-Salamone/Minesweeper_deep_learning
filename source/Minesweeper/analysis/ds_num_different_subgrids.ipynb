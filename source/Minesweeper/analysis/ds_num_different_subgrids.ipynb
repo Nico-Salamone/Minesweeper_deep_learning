{
 "cells": [
  {
   "cell_type": "code",
   "execution_count": 6,
   "metadata": {},
   "outputs": [],
   "source": [
    "# Change directory to the upper directory.\n",
    "import os\n",
    "\n",
    "analysis_dir_name = \"analysis\"\n",
    "\n",
    "current_dir = os.path.split(os.getcwd())[1]\n",
    "if current_dir == analysis_dir_name:\n",
    "    os.chdir(\"..\")"
   ]
  },
  {
   "cell_type": "code",
   "execution_count": 7,
   "metadata": {},
   "outputs": [],
   "source": [
    "import ai.nn.data_set as ds\n",
    "from ai.helpers import data_set_file_path"
   ]
  },
  {
   "cell_type": "code",
   "execution_count": 8,
   "metadata": {},
   "outputs": [
    {
     "name": "stdout",
     "output_type": "stream",
     "text": [
      "Data set loaded.\n"
     ]
    }
   ],
   "source": [
    "subgrid_radius = 2\n",
    "num_rows_grid = 10\n",
    "num_columns_grid = 10\n",
    "num_bombs_grid = 10\n",
    "num_no_bm_subgrids = ds.SIZE\n",
    "num_bm_subgrids = ds.SIZE\n",
    "# 'bm' means that the tile in the middle of the subgrids contains a bomb.\n",
    "\n",
    "ds_no_bm_file_name = data_set_file_path(num_rows_grid, num_columns_grid, num_bombs_grid, subgrid_radius, False)\n",
    "ds_bm_file_name = data_set_file_path(num_rows_grid, num_columns_grid, num_bombs_grid, subgrid_radius, True)\n",
    "\n",
    "# Load the data set.\n",
    "data_set_gen = ds.read_data_set(ds_no_bm_file_name)\n",
    "data_set_no_bm = [next(data_set_gen) for i in range(num_no_bm_subgrids)]\n",
    "\n",
    "data_set_gen = ds.read_data_set(ds_bm_file_name)\n",
    "data_set_bm = [next(data_set_gen) for i in range(num_bm_subgrids)]\n",
    "print(\"Data set loaded.\")"
   ]
  },
  {
   "cell_type": "code",
   "execution_count": 9,
   "metadata": {},
   "outputs": [
    {
     "name": "stdout",
     "output_type": "stream",
     "text": [
      "Data set with subgrids whose the tile in the middle does contain a bomb.\n",
      "Size: 1000000\n",
      "Size without duplicates: 457989\n",
      "Percentage of the number of different subgrids: 0.457989\n"
     ]
    }
   ],
   "source": [
    "print(\"Data set with subgrids whose the tile in the middle does contain a bomb.\")\n",
    "\n",
    "data_set = list(map(tuple, data_set_no_bm))\n",
    "print(\"Size: {}\".format(len(data_set)))\n",
    "\n",
    "data_set_without_duplicates = set(data_set)\n",
    "print(\"Size without duplicates: {}\".format(len(data_set_without_duplicates)))\n",
    "\n",
    "print(\"Percentage of the number of different subgrids: {}\".format(len(data_set_without_duplicates) / len(data_set)))"
   ]
  },
  {
   "cell_type": "code",
   "execution_count": 10,
   "metadata": {},
   "outputs": [
    {
     "name": "stdout",
     "output_type": "stream",
     "text": [
      "Data set with subgrids whose the tile in the middle contains a bomb.\n",
      "Size: 1000000\n",
      "Size without duplicates: 287937\n",
      "Percentage of the number of different subgrids: 0.287937\n"
     ]
    }
   ],
   "source": [
    "print(\"Data set with subgrids whose the tile in the middle contains a bomb.\")\n",
    "\n",
    "data_set = list(map(tuple, data_set_bm))\n",
    "print(\"Size: {}\".format(len(data_set)))\n",
    "\n",
    "data_set_without_duplicates = set(data_set)\n",
    "print(\"Size without duplicates: {}\".format(len(data_set_without_duplicates)))\n",
    "\n",
    "print(\"Percentage of the number of different subgrids: {}\".format(len(data_set_without_duplicates) / len(data_set)))"
   ]
  },
  {
   "cell_type": "code",
   "execution_count": null,
   "metadata": {},
   "outputs": [],
   "source": []
  }
 ],
 "metadata": {
  "kernelspec": {
   "display_name": "Python 3",
   "language": "python",
   "name": "python3"
  },
  "language_info": {
   "codemirror_mode": {
    "name": "ipython",
    "version": 3
   },
   "file_extension": ".py",
   "mimetype": "text/x-python",
   "name": "python",
   "nbconvert_exporter": "python",
   "pygments_lexer": "ipython3",
   "version": "3.6.2"
  }
 },
 "nbformat": 4,
 "nbformat_minor": 2
}
