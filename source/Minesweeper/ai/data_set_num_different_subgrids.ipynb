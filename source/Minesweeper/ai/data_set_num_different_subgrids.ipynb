{
 "cells": [
  {
   "cell_type": "code",
   "execution_count": 14,
   "metadata": {},
   "outputs": [],
   "source": [
    "# It allows to import files in the upper directory.\n",
    "import os\n",
    "import sys\n",
    "nb_dir = os.path.split(os.getcwd())[0]\n",
    "if nb_dir not in sys.path:\n",
    "    sys.path.append(nb_dir)"
   ]
  },
  {
   "cell_type": "code",
   "execution_count": 15,
   "metadata": {},
   "outputs": [],
   "source": [
    "import data_set as ds"
   ]
  },
  {
   "cell_type": "code",
   "execution_count": 16,
   "metadata": {},
   "outputs": [
    {
     "name": "stdout",
     "output_type": "stream",
     "text": [
      "Data set loaded.\n"
     ]
    }
   ],
   "source": [
    "radius_subgrids = 2\n",
    "num_rows_grid = 10\n",
    "num_columns_grid = 10\n",
    "num_bombs_grid = 10\n",
    "num_no_bm_subgrids = ds.SIZE\n",
    "num_bm_subgrids = ds.SIZE\n",
    "# 'bm' for means that the tile in the middle of the subgrids contains a bomb.\n",
    "\n",
    "ds_no_bm_file_name = ds.data_set_file_path(num_rows_grid, num_columns_grid, num_bombs_grid, radius_subgrids, False)\n",
    "ds_no_bm_file_name = ds_no_bm_file_name[3:]\n",
    "ds_bm_file_name = ds.data_set_file_path(num_rows_grid, num_columns_grid, num_bombs_grid, radius_subgrids, True)\n",
    "ds_bm_file_name = ds_bm_file_name[3:]\n",
    "\n",
    "# Load the data set.\n",
    "data_set_gen = ds.read_data_set(ds_no_bm_file_name)\n",
    "data_set_no_bm = [next(data_set_gen) for i in range(num_no_bm_subgrids)]\n",
    "\n",
    "data_set_gen = ds.read_data_set(ds_bm_file_name)\n",
    "data_set_bm = [next(data_set_gen) for i in range(num_bm_subgrids)]\n",
    "print(\"Data set loaded.\")"
   ]
  },
  {
   "cell_type": "code",
   "execution_count": 17,
   "metadata": {},
   "outputs": [
    {
     "name": "stdout",
     "output_type": "stream",
     "text": [
      "Data set with subgrids whose the tile in the middle does contain a bomb.\n",
      "Size: 1000000\n",
      "Size without duplicates: 457989\n",
      "Percentage of the number of different subgrids: 0.457989\n"
     ]
    }
   ],
   "source": [
    "print(\"Data set with subgrids whose the tile in the middle does contain a bomb.\")\n",
    "\n",
    "data_set = list(map(tuple, data_set_no_bm))\n",
    "print(\"Size: {}\".format(len(data_set)))\n",
    "\n",
    "data_set_without_duplicates = set(data_set)\n",
    "print(\"Size without duplicates: {}\".format(len(data_set_without_duplicates)))\n",
    "\n",
    "print(\"Percentage of the number of different subgrids: {}\".format(len(data_set_without_duplicates) / len(data_set)))"
   ]
  },
  {
   "cell_type": "code",
   "execution_count": 18,
   "metadata": {},
   "outputs": [
    {
     "name": "stdout",
     "output_type": "stream",
     "text": [
      "Data set with subgrids whose the tile in the middle contains a bomb.\n",
      "Size: 1000000\n",
      "Size without duplicates: 287937\n",
      "Percentage of the number of different subgrids: 0.287937\n"
     ]
    }
   ],
   "source": [
    "print(\"Data set with subgrids whose the tile in the middle contains a bomb.\")\n",
    "\n",
    "data_set = list(map(tuple, data_set_bm))\n",
    "print(\"Size: {}\".format(len(data_set)))\n",
    "\n",
    "data_set_without_duplicates = set(data_set)\n",
    "print(\"Size without duplicates: {}\".format(len(data_set_without_duplicates)))\n",
    "\n",
    "print(\"Percentage of the number of different subgrids: {}\".format(len(data_set_without_duplicates) / len(data_set)))"
   ]
  },
  {
   "cell_type": "code",
   "execution_count": null,
   "metadata": {},
   "outputs": [],
   "source": []
  }
 ],
 "metadata": {
  "kernelspec": {
   "display_name": "Python 3",
   "language": "python",
   "name": "python3"
  },
  "language_info": {
   "codemirror_mode": {
    "name": "ipython",
    "version": 3
   },
   "file_extension": ".py",
   "mimetype": "text/x-python",
   "name": "python",
   "nbconvert_exporter": "python",
   "pygments_lexer": "ipython3",
   "version": "3.6.2"
  }
 },
 "nbformat": 4,
 "nbformat_minor": 2
}
